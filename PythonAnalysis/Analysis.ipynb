{
 "cells": [
  {
   "cell_type": "code",
   "execution_count": 7,
   "metadata": {},
   "outputs": [],
   "source": [
    "from InSituToolkit.imaging_database import write_experiment\n",
    "import imaging_db.database.db_operations as db_ops\n",
    "import imaging_db.filestorage.s3_storage as s3_storage\n",
    "import imaging_db.filestorage.local_storage as local_storage\n",
    "import imaging_db.utils.db_utils as db_utils\n",
    "import os, csv\n",
    "\n",
    "\n",
    "%gui qt5\n",
    "import numpy as np\n",
    "from skimage import io\n",
    "from starfish import Experiment, display, Codebook, ExpressionMatrix, BinaryMaskCollection, LabelImage, FieldOfView\n",
    "from starfish.image import Filter\n",
    "from starfish.spots import FindSpots, DecodeSpots, AssignTargets\n",
    "from starfish.types import Axes, Coordinates, Features, FunctionSource, TraceBuildingStrategies\n",
    "\n",
    "\n",
    "\n",
    "db_credentials = '/Users/andrew.cote/Documents/db_credentials.json'\n",
    "list_of_datasets = getIDs(db_credentials, 'SDG')\n",
    "\n",
    "example_dataset = 'SDG-2019-10-07-22-22-22-0098'"
   ]
  },
  {
   "cell_type": "code",
   "execution_count": 8,
   "metadata": {},
   "outputs": [],
   "source": [
    "output_dir = \"/Users/andrew.cote/Documents/In-Situ_Transcriptomics/LungInSitu/experiments/\" + example_dataset + \"/\"\n",
    "exp = Experiment.from_json(output_dir + '/experiment.json')"
   ]
  },
  {
   "cell_type": "code",
   "execution_count": 1,
   "metadata": {},
   "outputs": [],
   "source": [
    "import pickle"
   ]
  },
  {
   "cell_type": "code",
   "execution_count": null,
   "metadata": {},
   "outputs": [],
   "source": []
  },
  {
   "cell_type": "code",
   "execution_count": null,
   "metadata": {},
   "outputs": [],
   "source": []
  },
  {
   "cell_type": "code",
   "execution_count": 10,
   "metadata": {},
   "outputs": [
    {
     "name": "stderr",
     "output_type": "stream",
     "text": [
      "100%|██████████| 21/21 [00:06<00:00,  3.41it/s]\n"
     ]
    },
    {
     "data": {
      "text/plain": [
       "<napari.viewer.Viewer at 0x13bf8f110>"
      ]
     },
     "execution_count": 10,
     "metadata": {},
     "output_type": "execute_result"
    }
   ],
   "source": [
    "#better to use the FieldOfView.ENUM designator as the string matching to 'primary may change later'\n",
    "\n",
    "primary_000 = exp['fov_000'].get_images(FieldOfView.PRIMARY_IMAGES)\n",
    "image_stack = next(primary_000)\n",
    "display(image_stack)"
   ]
  },
  {
   "cell_type": "code",
   "execution_count": null,
   "metadata": {},
   "outputs": [],
   "source": [
    "# we are basically doing edge detect on gaussian spatial features\n",
    "\n",
    "ghp = Filter.GaussianHighPass(sigma=3)\n",
    "high_passed = ghp.run(image_stack, verbose=True, in_place=False)\n",
    "\n",
    "glp = Filter.GaussianLowPass(sigma=1)\n",
    "low_passed = ghp.run(high_passed, verbose=True, in_place=False)"
   ]
  },
  {
   "cell_type": "code",
   "execution_count": null,
   "metadata": {},
   "outputs": [],
   "source": [
    "# project z planes by maximum\n",
    "\n",
    "mproj = Filter.Reduce((Axes.ZPLANE,), func='max', module=FunctionSource.np)\n",
    "mip = mproj.run(low_passed)"
   ]
  },
  {
   "cell_type": "code",
   "execution_count": null,
   "metadata": {},
   "outputs": [],
   "source": [
    "# find the spots \n",
    "\n",
    "p = FindSpots.BlobDetector(\n",
    "    min_sigma = 1, max_sigma = 10, num_sigma = 10, threshold = 0.001, \n",
    "    measurement_type = 'mean'\n",
    ")"
   ]
  },
  {
   "cell_type": "code",
   "execution_count": null,
   "metadata": {},
   "outputs": [],
   "source": []
  }
 ],
 "metadata": {
  "kernelspec": {
   "display_name": "Python 3",
   "language": "python",
   "name": "python3"
  },
  "language_info": {
   "codemirror_mode": {
    "name": "ipython",
    "version": 3
   },
   "file_extension": ".py",
   "mimetype": "text/x-python",
   "name": "python",
   "nbconvert_exporter": "python",
   "pygments_lexer": "ipython3",
   "version": "3.7.5"
  }
 },
 "nbformat": 4,
 "nbformat_minor": 2
}
