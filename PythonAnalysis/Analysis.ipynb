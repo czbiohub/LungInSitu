{
 "cells": [
  {
   "cell_type": "code",
   "execution_count": 42,
   "metadata": {},
   "outputs": [],
   "source": [
    "from InSituToolkit.imaging_database import write_experiment\n",
    "import imaging_db.database.db_operations as db_ops\n",
    "import imaging_db.filestorage.s3_storage as s3_storage\n",
    "import imaging_db.filestorage.local_storage as local_storage\n",
    "import imaging_db.utils.db_utils as db_utils\n",
    "import os, csv, pickle\n",
    "\n",
    "\n",
    "%gui qt5\n",
    "import numpy as np\n",
    "from skimage import io\n",
    "from starfish import Experiment, display, Codebook, ExpressionMatrix, BinaryMaskCollection, LabelImage, FieldOfView\n",
    "from starfish.image import Filter\n",
    "from starfish.spots import FindSpots, DecodeSpots, AssignTargets\n",
    "from starfish.types import Axes, Coordinates, Features, FunctionSource, TraceBuildingStrategies\n",
    "\n",
    "from InSituToolkit.analysis import save_stack\n",
    "\n",
    "db_credentials = '/Users/andrew.cote/Documents/db_credentials.json'\n",
    "\n",
    "# TODO: something clever with loading the experiment names, determining the assay, and dataset ID to get all the positions\n",
    "\n",
    "# load the list of experiments and iterate over all of them TODO\n",
    "# list_of_experiments = pickle.load(open('list_of_experiments.p'))\n",
    "# for path in list_of_experiments[0:1]:\n",
    "\n",
    "path = '/Users/andrew.cote/Documents/In-Situ_Transcriptomics/LungInSitu/experiments/AZ017_SURG_assay2/roi3/'\n",
    "exp = Experiment.from_json(path + 'experiment.json')\n",
    "\n",
    "'''\n",
    "this particular experiment has 12 FOVs, \n",
    "RNAscope assay #2:\n",
    "RNAscope staining 4. NKX2-1: C2 Opal dye 620\n",
    "RNAscope staining 5. SELENBP1: C3 Opal dye 690\n",
    "RNAscope staining 6. IGFBP3: C1 Opal dye 570\n",
    "''' \n",
    "\n",
    "\n",
    "#TODO: setup a small script that loads up the binary mask as output from ilastik into napari along with some fovs and\n",
    "# send over to Ashley for her to look over. \n",
    "\n",
    "'''\n",
    "Plan of attack:\n",
    "- create a pipeline in Ilastik that can classify regions as stroma or non-stroma\n",
    "- Produce a binary mask where non-stroma regions are '1' and stroma regions are '0'\n",
    "- Logical AND this mask with all three channels on the fovs such that we are only left with non-zero intensities\n",
    "    in non-stroma regions\n",
    "- find spots using bandpass filter and blob-detector\n",
    "- construct codebook according to the type of assay used (will need to read off file-names etc)\n",
    "- produce the count x cell matrix, where there is only 'one' cell which is non-stroma region\n",
    "- estimate total area of non-stroma region in pixels (could just sum elements of binary mask matrix)\n",
    "- produce density of target genes, i.e. number of spots/pixel area, for each channel\n",
    "\n",
    "Some notes:\n",
    "- binary mask will be the same across all channels\n",
    "- Check in with Ashley about whether the stroma and non-stroma classification is valid\n",
    "- could either use the binary mask to force pixel intensities to be zero, or just use it as a label image for the \n",
    "    codebook gene assignment\n",
    "'''\n",
    "\n",
    "s = 5\n"
   ]
  },
  {
   "cell_type": "code",
   "execution_count": null,
   "metadata": {},
   "outputs": [],
   "source": [
    "# To view a collection of FOVs in napari:\n",
    "\n",
    "img_stack = next(exp[fovs[0]].get_images(FieldOfView.PRIMARY_IMAGES))\n",
    "viewer = display(img_stack)\n",
    "\n",
    "for fov in fovs[0:4]:\n",
    "    display(img_stack, viewer=viewer)"
   ]
  },
  {
   "cell_type": "code",
   "execution_count": 41,
   "metadata": {},
   "outputs": [
    {
     "name": "stderr",
     "output_type": "stream",
     "text": [
      "100%|██████████| 21/21 [00:06<00:00,  3.01it/s]\n",
      "100%|██████████| 1/1 [00:00<00:00, 69.15it/s]\n",
      "100%|██████████| 21/21 [00:10<00:00,  1.97it/s]\n",
      "100%|██████████| 1/1 [00:00<00:00, 94.53it/s]\n",
      "100%|██████████| 21/21 [00:11<00:00,  1.75it/s]\n",
      "100%|██████████| 1/1 [00:00<00:00, 57.17it/s]\n",
      "100%|██████████| 21/21 [00:08<00:00,  2.47it/s]\n",
      "100%|██████████| 1/1 [00:00<00:00, 70.06it/s]\n"
     ]
    }
   ],
   "source": [
    "# To import images into Ilastik, we want to take the max projection of z-Planes across all color channels, \n",
    "# since the stroma tissue flouresces brightly and we want to paint these regions in Ilastik. \n",
    "\n",
    "fovs = [k for k in exp.keys()]\n",
    "\n",
    "for fov in fovs[0:4]:\n",
    "    img_stack = next(exp[fov].get_images(FieldOfView.PRIMARY_IMAGES))\n",
    "    \n",
    "    img_stack_reduced = img_stack.reduce({Axes.ZPLANE, Axes.CH}, func='max')\n",
    "    if not os.path.exists(path + 'ilastik_images'):\n",
    "        os.mkdir(path + 'ilastik_images/')\n",
    "    save_stack(img_stack_reduced, path + 'ilastik_images/' + fov + '.tif')"
   ]
  },
  {
   "cell_type": "code",
   "execution_count": 37,
   "metadata": {},
   "outputs": [
    {
     "data": {
      "text/plain": [
       "'fov_003'"
      ]
     },
     "execution_count": 37,
     "metadata": {},
     "output_type": "execute_result"
    }
   ],
   "source": []
  },
  {
   "cell_type": "code",
   "execution_count": null,
   "metadata": {},
   "outputs": [],
   "source": [
    "\n",
    "\n",
    "\n",
    "# Save the GFP stack\n",
    "\n",
    "gfp = exp.fov().get_image('stain')\n",
    "gfp_mip = mproj.run(gfp)\n",
    "save_stack(gfp_mip, './find_spots/gfp.tif')"
   ]
  },
  {
   "cell_type": "code",
   "execution_count": null,
   "metadata": {},
   "outputs": [],
   "source": []
  },
  {
   "cell_type": "code",
   "execution_count": 27,
   "metadata": {},
   "outputs": [
    {
     "data": {
      "text/plain": [
       "starfish.core.experiment.experiment.AlignedImageStackIterator"
      ]
     },
     "execution_count": 27,
     "metadata": {},
     "output_type": "execute_result"
    }
   ],
   "source": [
    "#better to use the FieldOfView.ENUM designator as the string matching to 'primary may change later'\n",
    "\n",
    "primary_000 = exp['fov_001'].get_images(FieldOfView.PRIMARY_IMAGES)\n",
    "type(primary_000)"
   ]
  },
  {
   "cell_type": "code",
   "execution_count": 8,
   "metadata": {},
   "outputs": [
    {
     "name": "stderr",
     "output_type": "stream",
     "text": [
      "100%|██████████| 21/21 [00:11<00:00,  1.85it/s]\n"
     ]
    },
    {
     "data": {
      "text/plain": [
       "<napari.viewer.Viewer at 0x16195c450>"
      ]
     },
     "execution_count": 8,
     "metadata": {},
     "output_type": "execute_result"
    }
   ],
   "source": [
    "image_stack = next(primary_000)\n",
    "viewer = display(image_stack)\n",
    "display()"
   ]
  },
  {
   "cell_type": "code",
   "execution_count": null,
   "metadata": {},
   "outputs": [],
   "source": [
    "# we are basically doing edge detect on gaussian spatial features\n",
    "\n",
    "ghp = Filter.GaussianHighPass(sigma=3)\n",
    "high_passed = ghp.run(image_stack, verbose=True, in_place=False)\n",
    "\n",
    "glp = Filter.GaussianLowPass(sigma=1)\n",
    "low_passed = ghp.run(high_passed, verbose=True, in_place=False)"
   ]
  },
  {
   "cell_type": "code",
   "execution_count": null,
   "metadata": {},
   "outputs": [],
   "source": [
    "# project z planes by maximum\n",
    "\n",
    "mproj = Filter.Reduce((Axes.ZPLANE,), func='max', module=FunctionSource.np)\n",
    "mip = mproj.run(low_passed)"
   ]
  },
  {
   "cell_type": "code",
   "execution_count": null,
   "metadata": {},
   "outputs": [],
   "source": [
    "# find the spots \n",
    "\n",
    "p = FindSpots.BlobDetector(\n",
    "    min_sigma = 1, max_sigma = 10, num_sigma = 10, threshold = 0.001, \n",
    "    measurement_type = 'mean'\n",
    ")"
   ]
  },
  {
   "cell_type": "code",
   "execution_count": null,
   "metadata": {},
   "outputs": [],
   "source": []
  }
 ],
 "metadata": {
  "kernelspec": {
   "display_name": "Python 3",
   "language": "python",
   "name": "python3"
  },
  "language_info": {
   "codemirror_mode": {
    "name": "ipython",
    "version": 3
   },
   "file_extension": ".py",
   "mimetype": "text/x-python",
   "name": "python",
   "nbconvert_exporter": "python",
   "pygments_lexer": "ipython3",
   "version": "3.7.4"
  }
 },
 "nbformat": 4,
 "nbformat_minor": 2
}
