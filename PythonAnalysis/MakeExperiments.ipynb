{
 "cells": [
  {
   "cell_type": "code",
   "execution_count": 1,
   "metadata": {},
   "outputs": [],
   "source": [
    "from InSituToolkit.imaging_database import write_experiment\n",
    "import imaging_db.database.db_operations as db_ops\n",
    "import imaging_db.filestorage.s3_storage as s3_storage\n",
    "import imaging_db.filestorage.local_storage as local_storage\n",
    "import imaging_db.utils.db_utils as db_utils\n",
    "import os\n",
    "\n",
    "# information taken from InSituToolkit notebooks, which happened to use the LungInsitu dataset\n",
    "# we must pull all image id's that contain \"SDG\" and make an experiment for them.\n",
    "# We assume that each file is a single round of imaging\n",
    "\n",
    "spot_channels = ['Opal_570_low', 'Opal_620', 'Opal_690']\n",
    "nuc_channel = ['DAPI']\n",
    "db_credentials = '/Users/andrew.cote/Documents/db_credentials.json'\n"
   ]
  },
  {
   "cell_type": "code",
   "execution_count": 12,
   "metadata": {},
   "outputs": [
    {
     "name": "stdout",
     "output_type": "stream",
     "text": [
      "Successfully created the directory /Users/andrew.cote/Documents/In-Situ_Transcriptomics/LungInSitu/experiments/temp/SDG-2019-10-07-22-22-22-0098 \n"
     ]
    },
    {
     "ename": "TypeError",
     "evalue": "cannot unpack non-iterable NoneType object",
     "output_type": "error",
     "traceback": [
      "\u001b[0;31m---------------------------------------------------------------------------\u001b[0m",
      "\u001b[0;31mTypeError\u001b[0m                                 Traceback (most recent call last)",
      "\u001b[0;32m<ipython-input-12-b5d434749421>\u001b[0m in \u001b[0;36m<module>\u001b[0;34m\u001b[0m\n\u001b[1;32m     13\u001b[0m write_experiment(db_credentials, output_dir, example_dataset,\n\u001b[1;32m     14\u001b[0m                  \u001b[0mspot_channels\u001b[0m\u001b[0;34m=\u001b[0m\u001b[0mspot_channels\u001b[0m\u001b[0;34m,\u001b[0m \u001b[0mnuc_channels\u001b[0m\u001b[0;34m=\u001b[0m\u001b[0mnuc_channel\u001b[0m\u001b[0;34m,\u001b[0m\u001b[0;34m\u001b[0m\u001b[0;34m\u001b[0m\u001b[0m\n\u001b[0;32m---> 15\u001b[0;31m                  \u001b[0mpositions\u001b[0m\u001b[0;34m=\u001b[0m\u001b[0;34m[\u001b[0m\u001b[0;36m12\u001b[0m\u001b[0;34m]\u001b[0m\u001b[0;34m\u001b[0m\u001b[0;34m\u001b[0m\u001b[0m\n\u001b[0m\u001b[1;32m     16\u001b[0m                 )\n",
      "\u001b[0;32m~/Documents/In-Situ_Transcriptomics/InSituToolkit/InSituToolkit/imaging_database/experiment_writer.py\u001b[0m in \u001b[0;36mwrite_experiment\u001b[0;34m(db_credentials, output_folder, image_ids, spot_channels, stain_channels, nuc_channels, metadata_format, positions, time, data_path)\u001b[0m\n\u001b[1;32m     47\u001b[0m                                                   \u001b[0mdb_credentials\u001b[0m\u001b[0;34m,\u001b[0m \u001b[0mspots_file_path\u001b[0m\u001b[0;34m,\u001b[0m \u001b[0mimage_ids\u001b[0m\u001b[0;34m,\u001b[0m\u001b[0;34m\u001b[0m\u001b[0;34m\u001b[0m\u001b[0m\n\u001b[1;32m     48\u001b[0m                                                   \u001b[0mspot_channels\u001b[0m\u001b[0;34m,\u001b[0m \u001b[0mmetadata_format\u001b[0m\u001b[0;34m,\u001b[0m \u001b[0mpositions\u001b[0m\u001b[0;34m,\u001b[0m \u001b[0mtime\u001b[0m\u001b[0;34m,\u001b[0m\u001b[0;34m\u001b[0m\u001b[0;34m\u001b[0m\u001b[0m\n\u001b[0;32m---> 49\u001b[0;31m                                                   \u001b[0mdata_path\u001b[0m\u001b[0;34m\u001b[0m\u001b[0;34m\u001b[0m\u001b[0m\n\u001b[0m\u001b[1;32m     50\u001b[0m     )\n\u001b[1;32m     51\u001b[0m     \u001b[0mcsv_args\u001b[0m \u001b[0;34m=\u001b[0m \u001b[0;34m'primary '\u001b[0m \u001b[0;34m+\u001b[0m \u001b[0mspots_file_path\u001b[0m\u001b[0;34m\u001b[0m\u001b[0;34m\u001b[0m\u001b[0m\n",
      "\u001b[0;31mTypeError\u001b[0m: cannot unpack non-iterable NoneType object"
     ]
    }
   ],
   "source": [
    "# Make one example experiment\n",
    "\n",
    "example_dataset = 'SDG-2019-10-07-22-22-22-0098'\n",
    "output_dir = \"/Users/andrew.cote/Documents/In-Situ_Transcriptomics/LungInSitu/experiments/temp/\" + example_dataset\n",
    "\n",
    "try:\n",
    "    os.mkdir(output_dir)\n",
    "except OSError:\n",
    "    print (\"Creation of the directory %s failed\" % output_dir)\n",
    "else:\n",
    "    print (\"Successfully created the directory %s \" % output_dir)\n",
    "\n",
    "write_experiment(db_credentials, output_dir, example_dataset,\n",
    "                 spot_channels=spot_channels, nuc_channels=nuc_channel,\n",
    "                 positions=[12]\n",
    "                )"
   ]
  },
  {
   "cell_type": "code",
   "execution_count": 8,
   "metadata": {},
   "outputs": [],
   "source": [
    "# accessing imagingDB and pulling the dataset id's. What we want is a set of unique id's that we then\n",
    "# write into experiment files\n",
    "\n",
    "def getIDs(db_credentials, string):\n",
    "    credentials_str = db_utils.get_connection_str(db_credentials)\n",
    "    with db_ops.session_scope(credentials_str) as session:\n",
    "        frames = session.query(db_ops.DataSet) \n",
    "\n",
    "    set_of_ids = list()\n",
    "    for f in frames:\n",
    "        name = f.dataset_serial\n",
    "        if string in name:\n",
    "            set_of_ids.append(name)\n",
    "    return list(set_of_ids)\n",
    "        \n",
    "def getPositions(db_credentials, dataset_identifier):\n",
    "    credentials_str = db_utils.get_connection_str(db_credentials)\n",
    "    \n",
    "    with db_ops.session_scope(credentials_str) as session:\n",
    "        frames = session.query(db_ops.Frames) \\\n",
    "            .join(db_ops.FramesGlobal) \\\n",
    "            .join(db_ops.DataSet)  \\\n",
    "            .filter(db_ops.DataSet.dataset_serial == dataset_identifier) \n",
    "    positions = set()\n",
    "    for f in frames:\n",
    "        positions.add(f.pos_idx)\n",
    "    return list(positions)"
   ]
  },
  {
   "cell_type": "code",
   "execution_count": 9,
   "metadata": {},
   "outputs": [],
   "source": [
    "list_of_datasets = getIDs(db_credentials, 'SDG')"
   ]
  },
  {
   "cell_type": "code",
   "execution_count": 10,
   "metadata": {},
   "outputs": [
    {
     "data": {
      "text/plain": [
       "['SDG-2019-10-08-13-30-00-0001',\n",
       " 'SDG-2019-10-07-13-30-00-0001',\n",
       " 'SDG-2019-10-07-13-30-00-0002',\n",
       " 'SDG-2019-10-07-13-30-00-0003',\n",
       " 'SDG-2019-10-07-13-30-00-0099',\n",
       " 'SDG-2019-10-07-13-30-00-0098',\n",
       " 'SDG-2019-10-07-22-22-22-0098',\n",
       " 'SDG-2019-10-28-16-53-00-0001',\n",
       " 'SDG-2019-10-28-16-53-00-0002',\n",
       " 'SDG-2019-10-28-16-53-00-0003',\n",
       " 'SDG-2019-10-24-15-00-00-0001',\n",
       " 'SDG-2019-10-16-14-30-00-0001',\n",
       " 'SDG-2019-10-16-14-30-00-0002',\n",
       " 'SDG-2019-10-16-12-40-00-0001',\n",
       " 'SDG-2019-10-16-12-40-00-0002',\n",
       " 'SDG-2019-10-16-11-09-00-0001',\n",
       " 'SDG-2019-10-16-10-49-00-0001',\n",
       " 'SDG-2019-10-16-10-37-00-0001',\n",
       " 'SDG-2019-10-16-09-21-00-0001',\n",
       " 'SDG-2019-10-16-09-21-00-0002',\n",
       " 'SDG-2019-10-16-09-21-00-0003',\n",
       " 'SDG-2019-10-15-15-10-00-0001',\n",
       " 'SDG-2019-10-15-15-10-00-0002',\n",
       " 'SDG-2019-10-15-15-10-00-0003',\n",
       " 'SDG-2019-10-08-16-22-00-0001',\n",
       " 'SDG-2019-10-08-16-22-00-0002',\n",
       " 'SDG-2019-10-08-16-22-00-0003',\n",
       " 'SDG-2019-10-08-16-00-00-0001',\n",
       " 'SDG-2019-10-08-15-10-00-0001',\n",
       " 'SDG-2019-10-08-15-10-00-0002',\n",
       " 'SDG-2019-10-08-14-37-00-0001',\n",
       " 'SDG-2019-10-07-16-51-00-0001',\n",
       " 'SDG-2019-10-07-15-54-00-0001',\n",
       " 'SDG-2019-10-07-15-37-00-0001',\n",
       " 'SDG-2019-10-07-15-08-00-0001',\n",
       " 'SDG-2019-10-07-15-08-00-0002',\n",
       " 'SDG-2019-10-07-15-08-00-0003',\n",
       " 'SDG-2019-10-07-13-43-00-0001',\n",
       " 'SDG-2019-10-07-13-43-00-0002',\n",
       " 'SDG-2019-10-08-16-17-00-0001',\n",
       " 'SDG-2019-10-08-16-17-00-0002',\n",
       " 'SDG-2019-10-07-13-17-00-0001',\n",
       " 'SDG-2019-10-07-13-17-00-0002',\n",
       " 'SDG-2019-10-07-13-17-00-0003',\n",
       " 'SDG-2019-10-07-12-53-00-0001',\n",
       " 'SDG-2019-10-07-12-34-00-0001',\n",
       " 'SDG-2019-10-07-11-25-00-0001',\n",
       " 'SDG-2019-10-07-10-44-00-0007',\n",
       " 'SDG-2019-10-07-09-31-00-0008',\n",
       " 'SDG-2019-10-04-16-39-00-0001',\n",
       " 'SDG-2019-10-04-15-46-00-0001',\n",
       " 'SDG-2019-10-04-15-46-00-0002',\n",
       " 'SDG-2019-10-04-15-46-00-0003']"
      ]
     },
     "execution_count": 10,
     "metadata": {},
     "output_type": "execute_result"
    }
   ],
   "source": [
    "list_of_datasets"
   ]
  },
  {
   "cell_type": "code",
   "execution_count": 5,
   "metadata": {},
   "outputs": [
    {
     "name": "stdout",
     "output_type": "stream",
     "text": [
      "Successfully created the directory /Users/andrew.cote/Documents/In-Situ_Transcriptomics/LungInSitu/experiments/SDG-2019-10-08-15-10-00-0002/ \n"
     ]
    },
    {
     "ename": "TypeError",
     "evalue": "cannot unpack non-iterable NoneType object",
     "output_type": "error",
     "traceback": [
      "\u001b[0;31m---------------------------------------------------------------------------\u001b[0m",
      "\u001b[0;31mTypeError\u001b[0m                                 Traceback (most recent call last)",
      "\u001b[0;32m<ipython-input-5-2704ea2d28f5>\u001b[0m in \u001b[0;36m<module>\u001b[0;34m\u001b[0m\n\u001b[1;32m     20\u001b[0m     write_experiment(db_credentials, output_dir, dataset_identifier,\n\u001b[1;32m     21\u001b[0m                  \u001b[0mspot_channels\u001b[0m\u001b[0;34m=\u001b[0m\u001b[0mspot_channels\u001b[0m\u001b[0;34m,\u001b[0m \u001b[0mnuc_channels\u001b[0m\u001b[0;34m=\u001b[0m\u001b[0mnuc_channel\u001b[0m\u001b[0;34m,\u001b[0m\u001b[0;34m\u001b[0m\u001b[0;34m\u001b[0m\u001b[0m\n\u001b[0;32m---> 22\u001b[0;31m                  \u001b[0mpositions\u001b[0m\u001b[0;34m=\u001b[0m\u001b[0mpos\u001b[0m\u001b[0;34m\u001b[0m\u001b[0;34m\u001b[0m\u001b[0m\n\u001b[0m\u001b[1;32m     23\u001b[0m                 )\n",
      "\u001b[0;32m~/Documents/In-Situ_Transcriptomics/InSituToolkit/InSituToolkit/imaging_database/experiment_writer.py\u001b[0m in \u001b[0;36mwrite_experiment\u001b[0;34m(db_credentials, output_folder, image_ids, spot_channels, stain_channels, nuc_channels, metadata_format, positions, time, data_path)\u001b[0m\n\u001b[1;32m     47\u001b[0m                                                   \u001b[0mdb_credentials\u001b[0m\u001b[0;34m,\u001b[0m \u001b[0mspots_file_path\u001b[0m\u001b[0;34m,\u001b[0m \u001b[0mimage_ids\u001b[0m\u001b[0;34m,\u001b[0m\u001b[0;34m\u001b[0m\u001b[0;34m\u001b[0m\u001b[0m\n\u001b[1;32m     48\u001b[0m                                                   \u001b[0mspot_channels\u001b[0m\u001b[0;34m,\u001b[0m \u001b[0mmetadata_format\u001b[0m\u001b[0;34m,\u001b[0m \u001b[0mpositions\u001b[0m\u001b[0;34m,\u001b[0m \u001b[0mtime\u001b[0m\u001b[0;34m,\u001b[0m\u001b[0;34m\u001b[0m\u001b[0;34m\u001b[0m\u001b[0m\n\u001b[0;32m---> 49\u001b[0;31m                                                   \u001b[0mdata_path\u001b[0m\u001b[0;34m\u001b[0m\u001b[0;34m\u001b[0m\u001b[0m\n\u001b[0m\u001b[1;32m     50\u001b[0m     )\n\u001b[1;32m     51\u001b[0m     \u001b[0mcsv_args\u001b[0m \u001b[0;34m=\u001b[0m \u001b[0;34m'primary '\u001b[0m \u001b[0;34m+\u001b[0m \u001b[0mspots_file_path\u001b[0m\u001b[0;34m\u001b[0m\u001b[0;34m\u001b[0m\u001b[0m\n",
      "\u001b[0;31mTypeError\u001b[0m: cannot unpack non-iterable NoneType object"
     ]
    }
   ],
   "source": [
    "# Construct experiment files for each dataset, finding the positions as well\n",
    "\n",
    "list_of_datasets = getIDs(db_credentials, 'SDG')\n",
    "\n",
    "for dataset_identifier in list_of_datasets[0:1]:\n",
    "    pos = getPositions(db_credentials, dataset_identifier)\n",
    "    \n",
    "    # Saving experiment file to the repo\n",
    "    output_dir = \"/Users/andrew.cote/Documents/In-Situ_Transcriptomics/LungInSitu/experiments/\" + dataset_identifier + \"/\"\n",
    "\n",
    "    # first try to make the directory\n",
    "    try:\n",
    "        os.mkdir(output_dir)\n",
    "    except OSError:\n",
    "        print (\"Creation of the directory %s failed\" % output_dir)\n",
    "    else:\n",
    "        print (\"Successfully created the directory %s \" % output_dir)\n",
    "\n",
    "    #write the experiment\n",
    "    write_experiment(db_credentials, output_dir, dataset_identifier,\n",
    "                 spot_channels=spot_channels, nuc_channels=nuc_channel,\n",
    "                 positions=pos\n",
    "                )"
   ]
  },
  {
   "cell_type": "code",
   "execution_count": null,
   "metadata": {},
   "outputs": [],
   "source": []
  },
  {
   "cell_type": "code",
   "execution_count": null,
   "metadata": {},
   "outputs": [],
   "source": []
  },
  {
   "cell_type": "code",
   "execution_count": null,
   "metadata": {},
   "outputs": [],
   "source": [
    "\n"
   ]
  },
  {
   "cell_type": "code",
   "execution_count": null,
   "metadata": {},
   "outputs": [],
   "source": []
  },
  {
   "cell_type": "code",
   "execution_count": null,
   "metadata": {},
   "outputs": [],
   "source": []
  },
  {
   "cell_type": "code",
   "execution_count": null,
   "metadata": {},
   "outputs": [],
   "source": []
  },
  {
   "cell_type": "code",
   "execution_count": null,
   "metadata": {},
   "outputs": [],
   "source": []
  },
  {
   "cell_type": "code",
   "execution_count": null,
   "metadata": {},
   "outputs": [],
   "source": []
  },
  {
   "cell_type": "code",
   "execution_count": null,
   "metadata": {},
   "outputs": [],
   "source": []
  },
  {
   "cell_type": "code",
   "execution_count": null,
   "metadata": {},
   "outputs": [],
   "source": []
  },
  {
   "cell_type": "code",
   "execution_count": null,
   "metadata": {},
   "outputs": [],
   "source": []
  }
 ],
 "metadata": {
  "kernelspec": {
   "display_name": "Python 3",
   "language": "python",
   "name": "python3"
  },
  "language_info": {
   "codemirror_mode": {
    "name": "ipython",
    "version": 3
   },
   "file_extension": ".py",
   "mimetype": "text/x-python",
   "name": "python",
   "nbconvert_exporter": "python",
   "pygments_lexer": "ipython3",
   "version": "3.7.5"
  }
 },
 "nbformat": 4,
 "nbformat_minor": 2
}
