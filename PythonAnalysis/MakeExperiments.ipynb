{
 "cells": [
  {
   "cell_type": "code",
   "execution_count": 1,
   "metadata": {},
   "outputs": [],
   "source": [
    "from InSituToolkit.imaging_database import write_experiment\n",
    "from helpers import getPositions, getIDs\n",
    "import imaging_db.database.db_operations as db_ops\n",
    "import imaging_db.filestorage.s3_storage as s3_storage\n",
    "import imaging_db.filestorage.local_storage as local_storage\n",
    "import imaging_db.utils.db_utils as db_utils\n",
    "import os, csv, pickle\n",
    "\n",
    "# information taken from InSituToolkit notebooks, which happened to use the LungInsitu dataset\n",
    "# we must pull all image id's that contain \"SDG\" and make an experiment for them.\n",
    "# We assume that each file is a single round of imaging\n",
    "\n",
    "spot_channels = ['Opal_570_low', 'Opal_620', 'Opal_690']\n",
    "nuc_channel = ['DAPI']\n",
    "db_credentials = '/Users/andrew.cote/Documents/db_credentials.json'\n",
    "credentials_str = db_utils.get_connection_str(db_credentials)"
   ]
  },
  {
   "cell_type": "code",
   "execution_count": 6,
   "metadata": {},
   "outputs": [
    {
     "name": "stdout",
     "output_type": "stream",
     "text": [
      "wrote experiment to /Users/andrew.cote/Documents/In-Situ_Transcriptomics/LungInSitu/experiments/AZ017_SURG_assay2/roi3/\n"
     ]
    },
    {
     "ename": "KeyboardInterrupt",
     "evalue": "",
     "output_type": "error",
     "traceback": [
      "\u001b[0;31m---------------------------------------------------------------------------\u001b[0m",
      "\u001b[0;31mKeyboardInterrupt\u001b[0m                         Traceback (most recent call last)",
      "\u001b[0;32m<ipython-input-6-e3579e84e850>\u001b[0m in \u001b[0;36m<module>\u001b[0;34m\u001b[0m\n\u001b[1;32m     42\u001b[0m         write_experiment(db_credentials, save_path_exp, [dataset_id],\n\u001b[1;32m     43\u001b[0m                  \u001b[0mspot_channels\u001b[0m\u001b[0;34m=\u001b[0m\u001b[0mspot_channels\u001b[0m\u001b[0;34m,\u001b[0m \u001b[0mnuc_channels\u001b[0m\u001b[0;34m=\u001b[0m\u001b[0mnuc_channel\u001b[0m\u001b[0;34m,\u001b[0m\u001b[0;34m\u001b[0m\u001b[0;34m\u001b[0m\u001b[0m\n\u001b[0;32m---> 44\u001b[0;31m                  \u001b[0mpositions\u001b[0m\u001b[0;34m=\u001b[0m\u001b[0mpositions\u001b[0m\u001b[0;34m\u001b[0m\u001b[0;34m\u001b[0m\u001b[0m\n\u001b[0m\u001b[1;32m     45\u001b[0m                 )\n\u001b[1;32m     46\u001b[0m         \u001b[0mprint\u001b[0m\u001b[0;34m(\u001b[0m\u001b[0;34m\"wrote experiment to \"\u001b[0m \u001b[0;34m+\u001b[0m \u001b[0msave_path_exp\u001b[0m\u001b[0;34m)\u001b[0m\u001b[0;34m\u001b[0m\u001b[0;34m\u001b[0m\u001b[0m\n",
      "\u001b[0;32m~/Documents/In-Situ_Transcriptomics/InSituToolkit/InSituToolkit/imaging_database/experiment_writer.py\u001b[0m in \u001b[0;36mwrite_experiment\u001b[0;34m(db_credentials, output_folder, image_ids, spot_channels, stain_channels, nuc_channels, metadata_format, positions, time, data_path)\u001b[0m\n\u001b[1;32m     47\u001b[0m                                                   \u001b[0mdb_credentials\u001b[0m\u001b[0;34m,\u001b[0m \u001b[0mspots_file_path\u001b[0m\u001b[0;34m,\u001b[0m \u001b[0mimage_ids\u001b[0m\u001b[0;34m,\u001b[0m\u001b[0;34m\u001b[0m\u001b[0;34m\u001b[0m\u001b[0m\n\u001b[1;32m     48\u001b[0m                                                   \u001b[0mspot_channels\u001b[0m\u001b[0;34m,\u001b[0m \u001b[0mmetadata_format\u001b[0m\u001b[0;34m,\u001b[0m \u001b[0mpositions\u001b[0m\u001b[0;34m,\u001b[0m \u001b[0mtime\u001b[0m\u001b[0;34m,\u001b[0m\u001b[0;34m\u001b[0m\u001b[0;34m\u001b[0m\u001b[0m\n\u001b[0;32m---> 49\u001b[0;31m                                                   \u001b[0mdata_path\u001b[0m\u001b[0;34m\u001b[0m\u001b[0;34m\u001b[0m\u001b[0m\n\u001b[0m\u001b[1;32m     50\u001b[0m     )\n\u001b[1;32m     51\u001b[0m     \u001b[0mcsv_args\u001b[0m \u001b[0;34m=\u001b[0m \u001b[0;34m'primary '\u001b[0m \u001b[0;34m+\u001b[0m \u001b[0mspots_file_path\u001b[0m\u001b[0;34m\u001b[0m\u001b[0;34m\u001b[0m\u001b[0m\n",
      "\u001b[0;32m~/Documents/In-Situ_Transcriptomics/InSituToolkit/InSituToolkit/imaging_database/_make_experiment_csv.py\u001b[0m in \u001b[0;36mmake_experiment_csv\u001b[0;34m(db_credentials, csv_file, image_ids, channels, metadata_format, positions, time, data_path)\u001b[0m\n\u001b[1;32m     97\u001b[0m                         \u001b[0mtile_height\u001b[0m\u001b[0;34m.\u001b[0m\u001b[0mappend\u001b[0m\u001b[0;34m(\u001b[0m\u001b[0mim_height\u001b[0m\u001b[0;34m)\u001b[0m\u001b[0;34m\u001b[0m\u001b[0;34m\u001b[0m\u001b[0m\n\u001b[1;32m     98\u001b[0m \u001b[0;34m\u001b[0m\u001b[0m\n\u001b[0;32m---> 99\u001b[0;31m     \u001b[0msha\u001b[0m \u001b[0;34m=\u001b[0m \u001b[0m_calc_checksums\u001b[0m\u001b[0;34m(\u001b[0m\u001b[0mfile_path\u001b[0m\u001b[0;34m,\u001b[0m \u001b[0mdata_path\u001b[0m\u001b[0;34m)\u001b[0m\u001b[0;34m\u001b[0m\u001b[0;34m\u001b[0m\u001b[0m\n\u001b[0m\u001b[1;32m    100\u001b[0m \u001b[0;34m\u001b[0m\u001b[0m\n\u001b[1;32m    101\u001b[0m     \u001b[0mdata\u001b[0m \u001b[0;34m=\u001b[0m \u001b[0;34m[\u001b[0m\u001b[0mfov\u001b[0m\u001b[0;34m,\u001b[0m \u001b[0mrnd\u001b[0m\u001b[0;34m,\u001b[0m \u001b[0mchannel\u001b[0m\u001b[0;34m,\u001b[0m \u001b[0mz\u001b[0m\u001b[0;34m,\u001b[0m \u001b[0mfile_path\u001b[0m\u001b[0;34m,\u001b[0m \u001b[0msha\u001b[0m\u001b[0;34m,\u001b[0m \u001b[0mxc_min\u001b[0m\u001b[0;34m,\u001b[0m \u001b[0mxc_max\u001b[0m\u001b[0;34m,\u001b[0m \u001b[0myc_min\u001b[0m\u001b[0;34m,\u001b[0m \u001b[0myc_max\u001b[0m\u001b[0;34m,\u001b[0m \u001b[0mzc_min\u001b[0m\u001b[0;34m,\u001b[0m \u001b[0mzc_max\u001b[0m\u001b[0;34m,\u001b[0m \u001b[0mtile_width\u001b[0m\u001b[0;34m,\u001b[0m \u001b[0mtile_height\u001b[0m\u001b[0;34m]\u001b[0m\u001b[0;34m\u001b[0m\u001b[0;34m\u001b[0m\u001b[0m\n",
      "\u001b[0;32m~/Documents/In-Situ_Transcriptomics/InSituToolkit/InSituToolkit/imaging_database/_make_experiment_csv.py\u001b[0m in \u001b[0;36m_calc_checksums\u001b[0;34m(file_names, data_path)\u001b[0m\n\u001b[1;32m    117\u001b[0m         \u001b[0mfilename\u001b[0m \u001b[0;34m=\u001b[0m \u001b[0mos\u001b[0m\u001b[0;34m.\u001b[0m\u001b[0mpath\u001b[0m\u001b[0;34m.\u001b[0m\u001b[0mjoin\u001b[0m\u001b[0;34m(\u001b[0m\u001b[0mdata_path\u001b[0m\u001b[0;34m,\u001b[0m \u001b[0mcleaned_filename\u001b[0m\u001b[0;34m)\u001b[0m\u001b[0;34m\u001b[0m\u001b[0;34m\u001b[0m\u001b[0m\n\u001b[1;32m    118\u001b[0m         \u001b[0;32mwith\u001b[0m \u001b[0mopen\u001b[0m\u001b[0;34m(\u001b[0m\u001b[0mfilename\u001b[0m\u001b[0;34m,\u001b[0m\u001b[0;34m\"rb\"\u001b[0m\u001b[0;34m)\u001b[0m \u001b[0;32mas\u001b[0m \u001b[0mf\u001b[0m\u001b[0;34m:\u001b[0m\u001b[0;34m\u001b[0m\u001b[0;34m\u001b[0m\u001b[0m\n\u001b[0;32m--> 119\u001b[0;31m             \u001b[0mbytes\u001b[0m \u001b[0;34m=\u001b[0m \u001b[0mf\u001b[0m\u001b[0;34m.\u001b[0m\u001b[0mread\u001b[0m\u001b[0;34m(\u001b[0m\u001b[0;34m)\u001b[0m \u001b[0;31m# read entire file as bytes\u001b[0m\u001b[0;34m\u001b[0m\u001b[0;34m\u001b[0m\u001b[0m\n\u001b[0m\u001b[1;32m    120\u001b[0m             \u001b[0mreadable_hash\u001b[0m \u001b[0;34m=\u001b[0m \u001b[0mhashlib\u001b[0m\u001b[0;34m.\u001b[0m\u001b[0msha256\u001b[0m\u001b[0;34m(\u001b[0m\u001b[0mbytes\u001b[0m\u001b[0;34m)\u001b[0m\u001b[0;34m.\u001b[0m\u001b[0mhexdigest\u001b[0m\u001b[0;34m(\u001b[0m\u001b[0;34m)\u001b[0m\u001b[0;34m;\u001b[0m\u001b[0;34m\u001b[0m\u001b[0;34m\u001b[0m\u001b[0m\n\u001b[1;32m    121\u001b[0m \u001b[0;34m\u001b[0m\u001b[0m\n",
      "\u001b[0;31mKeyboardInterrupt\u001b[0m: "
     ]
    }
   ],
   "source": [
    "\n",
    "'''\n",
    "We want to save the experiment files in a specific format / directory naming convention, i.e.\n",
    "\n",
    "in \"/Users/andrew.cote/Documents/In-Situ_Transcriptomics/LungInSitu/experiments/\" \n",
    "\n",
    "The list of experiments reads like\n",
    "\n",
    "/TH134_E2_B1_assay2/roi1/<experiment_files>\n",
    "/TH134_E2_B1_assay2/roi2/<experiment_files>\n",
    "\n",
    "\n",
    "\n",
    "'''\n",
    "\n",
    "base_path = \"/Users/andrew.cote/Documents/In-Situ_Transcriptomics/LungInSitu/experiments/\"\n",
    "list_of_experiments = []\n",
    "\n",
    "csv_file = open('metadata_lung.csv')\n",
    "csv_reader = csv.reader(csv_file, delimiter=',')\n",
    "line_count = 0\n",
    "for row in csv_reader:\n",
    "    if line_count > 0 and line_count < 2:\n",
    "        \n",
    "        # extract relevant columns from the csv file\n",
    "        dataset_id = row[0]\n",
    "        roi = row[-1]\n",
    "        full_name = row[2]\n",
    "        \n",
    "        # construct the directory name according to the convention specified:\n",
    "        idx = full_name.find('assay')\n",
    "        dir_name = full_name[0:idx+6]\n",
    "        save_path = base_path + dir_name\n",
    "        save_path_exp = save_path + '/roi' + roi + '/'\n",
    "        \n",
    "        if not os.path.exists(save_path):\n",
    "            os.mkdir(save_path)\n",
    "            \n",
    "        os.mkdir(save_path_exp)\n",
    "        \n",
    "        # pull positions from database and write the experiment file\n",
    "        positions = getPositions(db_credentials, dataset_id)\n",
    "        \n",
    "        write_experiment(db_credentials, save_path_exp, [dataset_id],\n",
    "                 spot_channels=spot_channels, nuc_channels=nuc_channel,\n",
    "                 positions=positions\n",
    "                )\n",
    "        print(\"wrote experiment to \" + save_path_exp)\n",
    "        list_of_experiments.append(save_path_exp)\n",
    "        \n",
    "    line_count += 1\n",
    "    \n",
    "pickle.dump(list_of_experiments, open('list_of_experiments.p'), 'wb')"
   ]
  },
  {
   "cell_type": "code",
   "execution_count": null,
   "metadata": {},
   "outputs": [],
   "source": [
    "save_path = base_path + dir_name\n",
    "save_path\n",
    "os.path.exists(save_path)"
   ]
  },
  {
   "cell_type": "code",
   "execution_count": null,
   "metadata": {},
   "outputs": [],
   "source": [
    "s = 'TH134_E2_B1_assay2_191016_1_IGFBP3_570_NKX21_620_SELENBP1_690'\n",
    "idx = s.find('assay')\n",
    "s[0:idx + 5]"
   ]
  },
  {
   "cell_type": "code",
   "execution_count": null,
   "metadata": {},
   "outputs": [],
   "source": [
    "# Make one example experiment\n",
    "\n",
    "example_dataset = 'SDG-2019-10-07-22-22-22-0098'\n",
    "output_dir = \"/Users/andrew.cote/Documents/In-Situ_Transcriptomics/LungInSitu/experiments/temp/\" + example_dataset\n",
    "\n",
    "try:\n",
    "    os.mkdir(output_dir)\n",
    "except OSError:\n",
    "    print (\"Creation of the directory %s failed\" % output_dir)\n",
    "else:\n",
    "    print (\"Successfully created the directory %s \" % output_dir)\n",
    "\n",
    "write_experiment(db_credentials, output_dir, example_dataset,\n",
    "                 spot_channels=spot_channels, nuc_channels=nuc_channel,\n",
    "                 positions=[12]\n",
    "                )"
   ]
  },
  {
   "cell_type": "code",
   "execution_count": null,
   "metadata": {},
   "outputs": [],
   "source": []
  },
  {
   "cell_type": "code",
   "execution_count": null,
   "metadata": {},
   "outputs": [],
   "source": []
  },
  {
   "cell_type": "code",
   "execution_count": null,
   "metadata": {},
   "outputs": [],
   "source": []
  },
  {
   "cell_type": "code",
   "execution_count": null,
   "metadata": {},
   "outputs": [],
   "source": []
  },
  {
   "cell_type": "code",
   "execution_count": null,
   "metadata": {},
   "outputs": [],
   "source": []
  },
  {
   "cell_type": "code",
   "execution_count": null,
   "metadata": {},
   "outputs": [],
   "source": []
  },
  {
   "cell_type": "code",
   "execution_count": null,
   "metadata": {},
   "outputs": [],
   "source": [
    "\n"
   ]
  },
  {
   "cell_type": "code",
   "execution_count": null,
   "metadata": {},
   "outputs": [],
   "source": []
  },
  {
   "cell_type": "code",
   "execution_count": null,
   "metadata": {},
   "outputs": [],
   "source": []
  },
  {
   "cell_type": "code",
   "execution_count": null,
   "metadata": {},
   "outputs": [],
   "source": []
  },
  {
   "cell_type": "code",
   "execution_count": null,
   "metadata": {},
   "outputs": [],
   "source": []
  },
  {
   "cell_type": "code",
   "execution_count": null,
   "metadata": {},
   "outputs": [],
   "source": []
  },
  {
   "cell_type": "code",
   "execution_count": null,
   "metadata": {},
   "outputs": [],
   "source": []
  },
  {
   "cell_type": "code",
   "execution_count": null,
   "metadata": {},
   "outputs": [],
   "source": []
  },
  {
   "cell_type": "code",
   "execution_count": null,
   "metadata": {},
   "outputs": [],
   "source": []
  }
 ],
 "metadata": {
  "kernelspec": {
   "display_name": "Python 3",
   "language": "python",
   "name": "python3"
  },
  "language_info": {
   "codemirror_mode": {
    "name": "ipython",
    "version": 3
   },
   "file_extension": ".py",
   "mimetype": "text/x-python",
   "name": "python",
   "nbconvert_exporter": "python",
   "pygments_lexer": "ipython3",
   "version": "3.7.5"
  }
 },
 "nbformat": 4,
 "nbformat_minor": 2
}
